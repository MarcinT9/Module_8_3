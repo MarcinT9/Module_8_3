{
 "cells": [
  {
   "cell_type": "markdown",
   "id": "59650f43",
   "metadata": {},
   "source": [
    "Wczytaj do Pandas bazę najlepiej sprzedających się albumów wszechczasów."
   ]
  },
  {
   "cell_type": "code",
   "execution_count": 7,
   "id": "469e5b00",
   "metadata": {},
   "outputs": [],
   "source": [
    "import pandas as pd\n",
    "import csv\n",
    "\n",
    "albums_list = pd.read_html('https://www.officialcharts.com/chart-news/the-best-selling-albums-of-all-time-on-the-official-uk-chart__15551/', header=0)\n",
    "albums = albums_list[0]"
   ]
  },
  {
   "cell_type": "markdown",
   "id": "89b17b93",
   "metadata": {},
   "source": [
    "Zamień nagłówki kolumn na polskie odpowiedniki: ['TYTUŁ','ARTYSTA','ROK','MAX POZ']"
   ]
  },
  {
   "cell_type": "code",
   "execution_count": 9,
   "id": "eefb1954",
   "metadata": {},
   "outputs": [
    {
     "data": {
      "text/html": [
       "<div>\n",
       "<style scoped>\n",
       "    .dataframe tbody tr th:only-of-type {\n",
       "        vertical-align: middle;\n",
       "    }\n",
       "\n",
       "    .dataframe tbody tr th {\n",
       "        vertical-align: top;\n",
       "    }\n",
       "\n",
       "    .dataframe thead th {\n",
       "        text-align: right;\n",
       "    }\n",
       "</style>\n",
       "<table border=\"1\" class=\"dataframe\">\n",
       "  <thead>\n",
       "    <tr style=\"text-align: right;\">\n",
       "      <th></th>\n",
       "      <th>POS</th>\n",
       "      <th>TYTUŁ</th>\n",
       "      <th>ARTYSTA</th>\n",
       "      <th>ROK</th>\n",
       "      <th>MAX POZ</th>\n",
       "    </tr>\n",
       "  </thead>\n",
       "  <tbody>\n",
       "    <tr>\n",
       "      <th>0</th>\n",
       "      <td>1</td>\n",
       "      <td>GREATEST HITS</td>\n",
       "      <td>QUEEN</td>\n",
       "      <td>1981</td>\n",
       "      <td>1</td>\n",
       "    </tr>\n",
       "  </tbody>\n",
       "</table>\n",
       "</div>"
      ],
      "text/plain": [
       "   POS          TYTUŁ ARTYSTA   ROK  MAX POZ\n",
       "0    1  GREATEST HITS   QUEEN  1981        1"
      ]
     },
     "execution_count": 9,
     "metadata": {},
     "output_type": "execute_result"
    }
   ],
   "source": [
    "albums.rename(columns={'TITLE':'TYTUŁ', 'ARTIST':'ARTYSTA', 'YEAR':'ROK', 'HIGH POSN':'MAX POZ'}, inplace=True)\n",
    "albums.head(1)"
   ]
  },
  {
   "cell_type": "markdown",
   "id": "bb4945d6",
   "metadata": {},
   "source": [
    "Ilu pojedynczych artystów znajduje się na liście?"
   ]
  },
  {
   "cell_type": "code",
   "execution_count": 10,
   "id": "1e30ac0d",
   "metadata": {},
   "outputs": [
    {
     "name": "stdout",
     "output_type": "stream",
     "text": [
      "47\n"
     ]
    }
   ],
   "source": [
    "print(albums['ARTYSTA'].nunique())"
   ]
  },
  {
   "cell_type": "markdown",
   "id": "f3a90737",
   "metadata": {},
   "source": [
    "Które zespoły pojawiają się najczęściej na liście?"
   ]
  },
  {
   "cell_type": "code",
   "execution_count": 11,
   "id": "38393884",
   "metadata": {},
   "outputs": [
    {
     "name": "stdout",
     "output_type": "stream",
     "text": [
      "COLDPLAY         3\n",
      "TAKE THAT        3\n",
      "FLEETWOOD MAC    2\n",
      "ABBA             2\n",
      "DIDO             2\n",
      "Name: ARTYSTA, dtype: int64\n"
     ]
    }
   ],
   "source": [
    "print(albums['ARTYSTA'].value_counts().head())"
   ]
  },
  {
   "cell_type": "markdown",
   "id": "aea38bc4",
   "metadata": {},
   "source": [
    "Zmień nagłówki kolumn, tak aby każdy z nich rozpoczynał się od wielkiej litery, a pozostałe były wprowadzone małymi literami."
   ]
  },
  {
   "cell_type": "code",
   "execution_count": 12,
   "id": "14a14e9c",
   "metadata": {},
   "outputs": [
    {
     "data": {
      "text/html": [
       "<div>\n",
       "<style scoped>\n",
       "    .dataframe tbody tr th:only-of-type {\n",
       "        vertical-align: middle;\n",
       "    }\n",
       "\n",
       "    .dataframe tbody tr th {\n",
       "        vertical-align: top;\n",
       "    }\n",
       "\n",
       "    .dataframe thead th {\n",
       "        text-align: right;\n",
       "    }\n",
       "</style>\n",
       "<table border=\"1\" class=\"dataframe\">\n",
       "  <thead>\n",
       "    <tr style=\"text-align: right;\">\n",
       "      <th></th>\n",
       "      <th>Pos</th>\n",
       "      <th>Tytuł</th>\n",
       "      <th>Artysta</th>\n",
       "      <th>Rok</th>\n",
       "      <th>Max poz</th>\n",
       "    </tr>\n",
       "  </thead>\n",
       "  <tbody>\n",
       "    <tr>\n",
       "      <th>0</th>\n",
       "      <td>1</td>\n",
       "      <td>GREATEST HITS</td>\n",
       "      <td>QUEEN</td>\n",
       "      <td>1981</td>\n",
       "      <td>1</td>\n",
       "    </tr>\n",
       "  </tbody>\n",
       "</table>\n",
       "</div>"
      ],
      "text/plain": [
       "   Pos          Tytuł Artysta   Rok  Max poz\n",
       "0    1  GREATEST HITS   QUEEN  1981        1"
      ]
     },
     "execution_count": 12,
     "metadata": {},
     "output_type": "execute_result"
    }
   ],
   "source": [
    "albums.rename(columns=str.capitalize, inplace=True)\n",
    "albums.head(1)"
   ]
  },
  {
   "cell_type": "markdown",
   "id": "79a7bf8c",
   "metadata": {},
   "source": [
    "Wyrzuć z tabeli kolumnę ‘Max Poz’."
   ]
  },
  {
   "cell_type": "code",
   "execution_count": 13,
   "id": "356f0852",
   "metadata": {},
   "outputs": [
    {
     "data": {
      "text/html": [
       "<div>\n",
       "<style scoped>\n",
       "    .dataframe tbody tr th:only-of-type {\n",
       "        vertical-align: middle;\n",
       "    }\n",
       "\n",
       "    .dataframe tbody tr th {\n",
       "        vertical-align: top;\n",
       "    }\n",
       "\n",
       "    .dataframe thead th {\n",
       "        text-align: right;\n",
       "    }\n",
       "</style>\n",
       "<table border=\"1\" class=\"dataframe\">\n",
       "  <thead>\n",
       "    <tr style=\"text-align: right;\">\n",
       "      <th></th>\n",
       "      <th>Pos</th>\n",
       "      <th>Tytuł</th>\n",
       "      <th>Artysta</th>\n",
       "      <th>Rok</th>\n",
       "    </tr>\n",
       "  </thead>\n",
       "  <tbody>\n",
       "    <tr>\n",
       "      <th>0</th>\n",
       "      <td>1</td>\n",
       "      <td>GREATEST HITS</td>\n",
       "      <td>QUEEN</td>\n",
       "      <td>1981</td>\n",
       "    </tr>\n",
       "  </tbody>\n",
       "</table>\n",
       "</div>"
      ],
      "text/plain": [
       "   Pos          Tytuł Artysta   Rok\n",
       "0    1  GREATEST HITS   QUEEN  1981"
      ]
     },
     "execution_count": 13,
     "metadata": {},
     "output_type": "execute_result"
    }
   ],
   "source": [
    "albums.drop('Max poz', axis=1, inplace=True)\n",
    "albums.head(1)"
   ]
  },
  {
   "cell_type": "markdown",
   "id": "f37a2062",
   "metadata": {},
   "source": [
    "W którym roku wyszło najwięcej albumów znajdujących się na liście?"
   ]
  },
  {
   "cell_type": "code",
   "execution_count": 14,
   "id": "e1b49815",
   "metadata": {},
   "outputs": [
    {
     "name": "stdout",
     "output_type": "stream",
     "text": [
      "2000    4\n",
      "Name: Rok, dtype: int64\n"
     ]
    }
   ],
   "source": [
    "print(albums['Rok'].value_counts().head(1))"
   ]
  },
  {
   "cell_type": "markdown",
   "id": "b6ab4ccc",
   "metadata": {},
   "source": [
    "Ile albumów wydanych między 1960 a 1990 rokiem włącznie znajduje się na liście?"
   ]
  },
  {
   "cell_type": "code",
   "execution_count": 15,
   "id": "3eb25c70",
   "metadata": {},
   "outputs": [
    {
     "name": "stdout",
     "output_type": "stream",
     "text": [
      "21\n"
     ]
    }
   ],
   "source": [
    "albums_between=albums[(albums['Rok']>1960) & (albums['Rok']<1990)]\n",
    "print(len(albums_between))"
   ]
  },
  {
   "cell_type": "markdown",
   "id": "be9b8bfc",
   "metadata": {},
   "source": [
    "W którym roku wydany został najmłodszy album na liście?"
   ]
  },
  {
   "cell_type": "code",
   "execution_count": 16,
   "id": "86676804",
   "metadata": {},
   "outputs": [
    {
     "name": "stdout",
     "output_type": "stream",
     "text": [
      "2015\n"
     ]
    }
   ],
   "source": [
    "print(albums['Rok'].max())"
   ]
  },
  {
   "cell_type": "markdown",
   "id": "732ac10b",
   "metadata": {},
   "source": [
    "Przygotuj listę najwcześniej wydanych albumów każdego artysty, który znalazł się na liście."
   ]
  },
  {
   "cell_type": "code",
   "execution_count": 17,
   "id": "6628c46d",
   "metadata": {},
   "outputs": [
    {
     "name": "stdout",
     "output_type": "stream",
     "text": [
      "                          Pos                             Tytuł   Rok\n",
      "Artysta                                                              \n",
      "ABBA                        2              GOLD - GREATEST HITS  1975\n",
      "ADELE                       4                                21  2011\n",
      "ALANIS MORISSETTE          41                JAGGED LITTLE PILL  1995\n",
      "AMY WINEHOUSE              13                     BACK TO BLACK  2006\n",
      "BEATLES                     3                                 1  1967\n",
      "BOB MARLEY & THE WAILERS   16                            LEGEND  1984\n",
      "COLDPLAY                   31       A RUSH OF BLOOD TO THE HEAD  2000\n",
      "CORRS                      28                   TALK ON CORNERS  1997\n",
      "DAVID GRAY                 26                      WHITE LADDER  1998\n",
      "DIDO                       25                     LIFE FOR RENT  2000\n",
      "DIRE STRAITS                8                  BROTHERS IN ARMS  1985\n",
      "ED SHEERAN                 49                                 X  2014\n",
      "EMINEM                     55           THE MARSHALL MATHERS LP  2000\n",
      "FLEETWOOD MAC              11                           RUMOURS  1977\n",
      "GEORGE MICHAEL             53  LADIES & GENTLEMEN - THE BEST OF  1998\n",
      "JAMES BLUNT                17                    BACK TO BEDLAM  2004\n",
      "JEFF WAYNE                 37             THE WAR OF THE WORLDS  1978\n",
      "KEANE                      35                   HOPES AND FEARS  2004\n",
      "KINGS OF LEON              33                 ONLY BY THE NIGHT  2008\n",
      "LADY GAGA                  30                          THE FAME  2008\n",
      "LEONA LEWIS                23                            SPIRIT  2007\n",
      "MADONNA                    12         THE IMMACULATE COLLECTION  1990\n",
      "MEAT LOAF                  19                   BAT OUT OF HELL  1977\n",
      "MICHAEL BUBLE              24                        CRAZY LOVE  2009\n",
      "MICHAEL JACKSON             6                               BAD  1982\n",
      "MIKE OLDFIELD              42                     TUBULAR BELLS  1973\n",
      "NORAH JONES                50                 COME AWAY WITH ME  2002\n",
      "OASIS                       5    WHAT'S THE STORY MORNING GLORY  1995\n",
      "ORIGINAL CAST RECORDING    52                THE SOUND OF MUSIC  1965\n",
      "ORIGINAL SOUNDTRACK        22                     DIRTY DANCING  1977\n",
      "PAUL SIMON                 51                         GRACELAND  1986\n",
      "PHIL COLLINS               39                     BUT SERIOUSLY  1989\n",
      "PINK FLOYD                  7         THE DARK SIDE OF THE MOON  1973\n",
      "QUEEN                       1                     GREATEST HITS  1981\n",
      "REM                        60          AUTOMATIC FOR THE PEOPLE  1992\n",
      "ROBBIE WILLIAMS            48           I'VE BEEN EXPECTING YOU  1998\n",
      "SCISSOR SISTERS            38                   SCISSOR SISTERS  2004\n",
      "SHANIA TWAIN               15                      COME ON OVER  1997\n",
      "SIMON & GARFUNKEL          21        BRIDGE OVER TROUBLED WATER  1970\n",
      "SIMPLY RED                 14                             STARS  1991\n",
      "SNOW PATROL                58                         EYES OPEN  2006\n",
      "SPICE GIRLS                29                             SPICE  1996\n",
      "TAKE THAT                  34                   BEAUTIFUL WORLD  2005\n",
      "TRACY CHAPMAN              44                     TRACY CHAPMAN  1988\n",
      "TRAVIS                     43                       THE MAN WHO  1999\n",
      "U2                         36                   THE JOSHUA TREE  1987\n",
      "VERVE                      18                       URBAN HYMNS  1997\n"
     ]
    }
   ],
   "source": [
    "print(albums.groupby('Artysta').min())"
   ]
  },
  {
   "cell_type": "markdown",
   "id": "04e15966",
   "metadata": {},
   "source": [
    "Listę zapisz do pliku csv."
   ]
  },
  {
   "cell_type": "code",
   "execution_count": 18,
   "id": "353f11cf",
   "metadata": {},
   "outputs": [],
   "source": [
    "albums.to_csv('best_albums.csv', index=False)"
   ]
  },
  {
   "cell_type": "code",
   "execution_count": null,
   "id": "6ed576bb",
   "metadata": {},
   "outputs": [],
   "source": []
  }
 ],
 "metadata": {
  "kernelspec": {
   "display_name": "Python 3 (ipykernel)",
   "language": "python",
   "name": "python3"
  },
  "language_info": {
   "codemirror_mode": {
    "name": "ipython",
    "version": 3
   },
   "file_extension": ".py",
   "mimetype": "text/x-python",
   "name": "python",
   "nbconvert_exporter": "python",
   "pygments_lexer": "ipython3",
   "version": "3.10.5"
  }
 },
 "nbformat": 4,
 "nbformat_minor": 5
}
